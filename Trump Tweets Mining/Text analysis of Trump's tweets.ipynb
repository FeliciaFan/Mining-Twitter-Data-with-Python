{
 "cells": [
  {
   "cell_type": "markdown",
   "metadata": {
    "collapsed": true
   },
   "source": [
    "# Data collection"
   ]
  },
  {
   "cell_type": "code",
   "execution_count": 1,
   "metadata": {},
   "outputs": [
    {
     "name": "stdout",
     "output_type": "stream",
     "text": [
      "2009 --> done.\n",
      "2010 --> done.\n",
      "2011 --> done.\n",
      "2012 --> done.\n",
      "2013 --> done.\n",
      "2014 --> done.\n",
      "2015 --> done.\n",
      "2016 --> done.\n",
      "2017 --> done.\n",
      "2018 --> done.\n",
      "ok\n"
     ]
    }
   ],
   "source": [
    "import requests\n",
    "import json\n",
    "\n",
    "def get_tweets(year):\n",
    "    #  the truly excellent Trump Twitter Archive, which contains all of Trump’s tweets going back to 2009.\n",
    "    url = ('http://www.trumptwitterarchive.com/data/realdonaldtrump/%s.json' %year)\n",
    "    r = requests.get(url)\n",
    "    print(str(year) + ' --> ' + 'done.')\n",
    "    return r.json()\n",
    "\n",
    "def save_tweets(years=range(2009,2019)):\n",
    "        \n",
    "        tweets = []\n",
    "        for y in years:\n",
    "            data = get_tweets(y)\n",
    "            dl = len(data)\n",
    "            \n",
    "            i = 0\n",
    "            while i < dl:\n",
    "                tweets.append(data[i])\n",
    "                i += 1\n",
    "                \n",
    "        return tweets\n",
    "    \n",
    "with open(\"trump_tweets_2009~2018.json\", \"w\", encoding=\"utf-8\") as outfile:\n",
    "    json.dump(save_tweets(), outfile)\n",
    "    print('ok')"
   ]
  },
  {
   "cell_type": "markdown",
   "metadata": {
    "collapsed": true
   },
   "source": [
    "# Basic statistics & Visualizations"
   ]
  },
  {
   "cell_type": "code",
   "execution_count": 2,
   "metadata": {},
   "outputs": [
    {
     "data": {
      "text/plain": [
       "(33077, 8)"
      ]
     },
     "execution_count": 2,
     "metadata": {},
     "output_type": "execute_result"
    }
   ],
   "source": [
    "# make dataframe from JSON data\n",
    "import pandas as pd\n",
    "df = pd.read_json('trump_tweets_2009~2018.json')\n",
    "df.shape"
   ]
  },
  {
   "cell_type": "code",
   "execution_count": 3,
   "metadata": {},
   "outputs": [
    {
     "data": {
      "text/html": [
       "<div>\n",
       "<style>\n",
       "    .dataframe thead tr:only-child th {\n",
       "        text-align: right;\n",
       "    }\n",
       "\n",
       "    .dataframe thead th {\n",
       "        text-align: left;\n",
       "    }\n",
       "\n",
       "    .dataframe tbody tr th {\n",
       "        vertical-align: top;\n",
       "    }\n",
       "</style>\n",
       "<table border=\"1\" class=\"dataframe\">\n",
       "  <thead>\n",
       "    <tr style=\"text-align: right;\">\n",
       "      <th></th>\n",
       "      <th>created_at</th>\n",
       "      <th>favorite_count</th>\n",
       "      <th>id_str</th>\n",
       "      <th>in_reply_to_user_id_str</th>\n",
       "      <th>is_retweet</th>\n",
       "      <th>retweet_count</th>\n",
       "      <th>source</th>\n",
       "      <th>text</th>\n",
       "    </tr>\n",
       "  </thead>\n",
       "  <tbody>\n",
       "    <tr>\n",
       "      <th>33072</th>\n",
       "      <td>2018-01-10 04:23:58</td>\n",
       "      <td>60252</td>\n",
       "      <td>950946293077209088</td>\n",
       "      <td>NaN</td>\n",
       "      <td>False</td>\n",
       "      <td>13822</td>\n",
       "      <td>Twitter for iPhone</td>\n",
       "      <td>.@ICEgov HSI agents and ERO officers, on behal...</td>\n",
       "    </tr>\n",
       "    <tr>\n",
       "      <th>33073</th>\n",
       "      <td>2018-01-10 03:48:26</td>\n",
       "      <td>51951</td>\n",
       "      <td>950937350003183616</td>\n",
       "      <td>NaN</td>\n",
       "      <td>False</td>\n",
       "      <td>11893</td>\n",
       "      <td>Twitter for iPhone</td>\n",
       "      <td>Thank you @GOPLeader Kevin McCarthy! Couldn’t ...</td>\n",
       "    </tr>\n",
       "    <tr>\n",
       "      <th>33074</th>\n",
       "      <td>2018-01-10 00:16:57</td>\n",
       "      <td>123413</td>\n",
       "      <td>950884128379035648</td>\n",
       "      <td>NaN</td>\n",
       "      <td>False</td>\n",
       "      <td>24552</td>\n",
       "      <td>Twitter for iPhone</td>\n",
       "      <td>As I made very clear today, our country needs ...</td>\n",
       "    </tr>\n",
       "    <tr>\n",
       "      <th>33075</th>\n",
       "      <td>2018-01-09 23:59:38</td>\n",
       "      <td>0</td>\n",
       "      <td>950879772644659200</td>\n",
       "      <td>NaN</td>\n",
       "      <td>True</td>\n",
       "      <td>11716</td>\n",
       "      <td>Twitter for iPhone</td>\n",
       "      <td>RT @Scavino45: “Utilities cutting rates, cite ...</td>\n",
       "    </tr>\n",
       "    <tr>\n",
       "      <th>33076</th>\n",
       "      <td>2018-01-09 23:07:09</td>\n",
       "      <td>82151</td>\n",
       "      <td>950866561153331200</td>\n",
       "      <td>NaN</td>\n",
       "      <td>False</td>\n",
       "      <td>19481</td>\n",
       "      <td>Twitter for iPhone</td>\n",
       "      <td>Today, it was my great honor to sign a new Exe...</td>\n",
       "    </tr>\n",
       "  </tbody>\n",
       "</table>\n",
       "</div>"
      ],
      "text/plain": [
       "               created_at  favorite_count              id_str  \\\n",
       "33072 2018-01-10 04:23:58           60252  950946293077209088   \n",
       "33073 2018-01-10 03:48:26           51951  950937350003183616   \n",
       "33074 2018-01-10 00:16:57          123413  950884128379035648   \n",
       "33075 2018-01-09 23:59:38               0  950879772644659200   \n",
       "33076 2018-01-09 23:07:09           82151  950866561153331200   \n",
       "\n",
       "       in_reply_to_user_id_str  is_retweet  retweet_count              source  \\\n",
       "33072                      NaN       False          13822  Twitter for iPhone   \n",
       "33073                      NaN       False          11893  Twitter for iPhone   \n",
       "33074                      NaN       False          24552  Twitter for iPhone   \n",
       "33075                      NaN        True          11716  Twitter for iPhone   \n",
       "33076                      NaN       False          19481  Twitter for iPhone   \n",
       "\n",
       "                                                    text  \n",
       "33072  .@ICEgov HSI agents and ERO officers, on behal...  \n",
       "33073  Thank you @GOPLeader Kevin McCarthy! Couldn’t ...  \n",
       "33074  As I made very clear today, our country needs ...  \n",
       "33075  RT @Scavino45: “Utilities cutting rates, cite ...  \n",
       "33076  Today, it was my great honor to sign a new Exe...  "
      ]
     },
     "execution_count": 3,
     "metadata": {},
     "output_type": "execute_result"
    }
   ],
   "source": [
    "df.tail()"
   ]
  },
  {
   "cell_type": "code",
   "execution_count": 4,
   "metadata": {},
   "outputs": [
    {
     "name": "stdout",
     "output_type": "stream",
     "text": [
      "The lenght's average in tweets: 110.91%\n"
     ]
    }
   ],
   "source": [
    "# extract the mean of lenghts:\n",
    "import numpy as np\n",
    "mean = np.mean([len(i) for i in df.text])\n",
    "\n",
    "print(\"The lenght's average in tweets: %.2f%%\" % mean)"
   ]
  },
  {
   "cell_type": "code",
   "execution_count": 5,
   "metadata": {},
   "outputs": [
    {
     "name": "stdout",
     "output_type": "stream",
     "text": [
      "The tweet with more likes is: \n",
      "Such a beautiful and important evening! The forgotten man and woman will never be forgotten again. We will all come together as never before\n",
      "Number of likes: 633253\n",
      "\n",
      "The tweet with more retweets is: \n",
      "#FraudNewsCNN #FNN https://t.co/WYUnHjjUjg\n",
      "Number of retweets: 369530\n"
     ]
    }
   ],
   "source": [
    "# extract the tweet with more FAVs and more RTs:\n",
    "\n",
    "fav_max = np.max(df['favorite_count'])\n",
    "rt_max  = np.max(df['retweet_count'])\n",
    "\n",
    "fav = df[df.favorite_count == fav_max].index[0]\n",
    "rt  = df[df.retweet_count == rt_max].index[0]\n",
    "\n",
    "# Max FAVs:\n",
    "print(\"The tweet with more likes is: \\n{}\".format(df['text'][fav]))\n",
    "print(\"Number of likes: {}\".format(fav_max))\n",
    "print()\n",
    "# Max RTs:\n",
    "print(\"The tweet with more retweets is: \\n{}\".format(df['text'][rt]))\n",
    "print(\"Number of retweets: {}\".format(rt_max))"
   ]
  },
  {
   "cell_type": "code",
   "execution_count": 6,
   "metadata": {
    "collapsed": true
   },
   "outputs": [],
   "source": [
    "# create time series for data:\n",
    "tfav = pd.Series(data=df['favorite_count'].values, index=df['created_at'])\n",
    "tret = pd.Series(data=df['retweet_count'].values, index=df['created_at'])"
   ]
  },
  {
   "cell_type": "code",
   "execution_count": 7,
   "metadata": {},
   "outputs": [
    {
     "data": {
      "image/png": "[encoded data removed]",
      "text/plain": [
       "<matplotlib.figure.Figure at 0x19b41dec240>"
      ]
     },
     "metadata": {},
     "output_type": "display_data"
    }
   ],
   "source": [
    "# Likes vs retweets visualization:\n",
    "%matplotlib inline\n",
    "tfav.plot(figsize=(16,4), label=\"favorite_count\", legend=True)\n",
    "tret.plot(figsize=(16,4), label=\"retweet_count\", legend=True);"
   ]
  },
  {
   "cell_type": "code",
   "execution_count": 8,
   "metadata": {
    "scrolled": true
   },
   "outputs": [
    {
     "data": {
      "image/png": "[encoded data removed]",
      "text/plain": [
       "<matplotlib.figure.Figure at 0x19b40bd8320>"
      ]
     },
     "metadata": {},
     "output_type": "display_data"
    }
   ],
   "source": [
    "# what time of day the tweets occur\n",
    "hours = list({t.hour for t in tfav.index})\n",
    "temp = {}\n",
    "for h in hours:\n",
    "    c = 0\n",
    "    for t in tfav['2016-11':'2018'].index:\n",
    "        if t.hour == h:\n",
    "            c += 1\n",
    "    temp[h] = c\n",
    "pd.Series(temp).plot(figsize=(16,4), label=\"tweets_count\", legend=True, title='Tweets per hour');"
   ]
  },
  {
   "cell_type": "code",
   "execution_count": 9,
   "metadata": {
    "scrolled": false
   },
   "outputs": [
    {
     "name": "stdout",
     "output_type": "stream",
     "text": [
      "Creation of content sources:\n",
      "* Media Studio\n",
      "* Facebook\n",
      "* Twitter Web Client\n",
      "* Twitter for iPhone\n",
      "* Twitter QandA\n",
      "* Neatly For BlackBerry 10\n",
      "* Periscope\n",
      "* TweetDeck\n",
      "* TwitLonger Beta\n",
      "* Twitter for Websites\n",
      "* Twitter Mirror for iPad\n",
      "* Twitter for iPad\n",
      "* Twitlonger\n",
      "* Mobile Web (M5)\n",
      "* Twitter for Android\n",
      "* Twitter Ads\n",
      "* Twitter for BlackBerry\n",
      "* Vine - Make a Scene\n",
      "* Instagram\n"
     ]
    }
   ],
   "source": [
    "# obtain all possible sources:\n",
    "sources = list({source for source in df['source']})\n",
    "\n",
    "# print sources list:\n",
    "print(\"Creation of content sources:\")\n",
    "for source in sources:\n",
    "    print(\"* {}\".format(source))"
   ]
  },
  {
   "cell_type": "code",
   "execution_count": 10,
   "metadata": {
    "scrolled": true
   },
   "outputs": [
    {
     "data": {
      "text/plain": [
       "{'Facebook': 105,\n",
       " 'Instagram': 133,\n",
       " 'Media Studio': 128,\n",
       " 'Mobile Web (M5)': 56,\n",
       " 'Neatly For BlackBerry 10': 5,\n",
       " 'Periscope': 7,\n",
       " 'TweetDeck': 483,\n",
       " 'TwitLonger Beta': 405,\n",
       " 'Twitlonger': 23,\n",
       " 'Twitter Ads': 97,\n",
       " 'Twitter Mirror for iPad': 1,\n",
       " 'Twitter QandA': 10,\n",
       " 'Twitter Web Client': 12176,\n",
       " 'Twitter for Android': 14545,\n",
       " 'Twitter for BlackBerry': 97,\n",
       " 'Twitter for Websites': 1,\n",
       " 'Twitter for iPad': 51,\n",
       " 'Twitter for iPhone': 4744,\n",
       " 'Vine - Make a Scene': 10}"
      ]
     },
     "execution_count": 10,
     "metadata": {},
     "output_type": "execute_result"
    }
   ],
   "source": [
    "sources_fq = {s:len(df[df.source == s]) for s in sources}\n",
    "sources_fq"
   ]
  },
  {
   "cell_type": "code",
   "execution_count": 11,
   "metadata": {},
   "outputs": [
    {
     "data": {
      "image/png": "[encoded data removed]",
      "text/plain": [
       "<matplotlib.figure.Figure at 0x19b4128d128>"
      ]
     },
     "metadata": {},
     "output_type": "display_data"
    }
   ],
   "source": [
    "# Pie charts of sources\n",
    "count = 0\n",
    "ms_dict = {}\n",
    "for x,y in sources_fq.items():\n",
    "    if x not in ['Twitter for Android', 'Twitter for iPhone', 'Twitter Web Client']:\n",
    "        count += y\n",
    "    else: ms_dict[x] = y\n",
    "ms_dict['Other'] = count\n",
    "\n",
    "import matplotlib.pyplot as plt\n",
    "labels=sorted(ms_dict.keys(), key=lambda x:len(x),reverse=True)\n",
    "sizes=sorted(ms_dict.values(),reverse=True)\n",
    "colors=['yellowgreen','lightcoral','lightgray','lightskyblue']\n",
    "explode=0.1,0,0,0\n",
    "\n",
    "plt.pie(sizes,explode=explode,labels=labels,colors=colors,autopct='%1.1f%%',shadow=True,startangle=180)\n",
    "plt.axis('equal')\n",
    "plt.show()"
   ]
  },
  {
   "cell_type": "code",
   "execution_count": 12,
   "metadata": {
    "collapsed": true
   },
   "outputs": [],
   "source": [
    "# tweets of different sources.\n",
    "df_ad = df[df.source == 'Twitter for Android']\n",
    "df_ip = df[df.source == 'Twitter for iPhone']\n",
    "df_other = df[(df.source != 'Twitter for Android') & (df.source != 'Twitter for iPhone')]"
   ]
  },
  {
   "cell_type": "code",
   "execution_count": 13,
   "metadata": {
    "collapsed": true,
    "scrolled": true
   },
   "outputs": [],
   "source": [
    "def get_tweets_by_source(df_source):\n",
    "    '''\n",
    "    Function to know how many tweets are posted on different platforms each year.\n",
    "    '''\n",
    "    df_source.index = df_source.created_at\n",
    "    result = {}\n",
    "    for t in df_source.created_at:\n",
    "        time = str(t)[:7]\n",
    "        result[time] = len(df_source[time])\n",
    "\n",
    "    return result\n",
    "\n",
    "ad_tweets = get_tweets_by_source(df_ad)\n",
    "ip_tweets = get_tweets_by_source(df_ip)\n",
    "other_tweets = get_tweets_by_source(df_other)"
   ]
  },
  {
   "cell_type": "code",
   "execution_count": 14,
   "metadata": {},
   "outputs": [
    {
     "data": {
      "text/html": [
       "<iframe id=\"igraph\" scrolling=\"no\" style=\"border:none;\" seamless=\"seamless\" src=\"https://plot.ly/~epcobserver/22.embed\" height=\"525px\" width=\"100%\"></iframe>"
      ],
      "text/plain": [
       "<plotly.tools.PlotlyDisplay object>"
      ]
     },
     "execution_count": 14,
     "metadata": {},
     "output_type": "execute_result"
    }
   ],
   "source": [
    "import plotly.plotly as py\n",
    "import plotly.graph_objs as go\n",
    "\n",
    "dataset = {'x':list(ip_tweets.keys()),\n",
    "           'y1':list(ip_tweets.values()),\n",
    "           'y2':list(ad_tweets.values()),\n",
    "           'y3':list(other_tweets.values())}\n",
    "\n",
    "title=\"main source of @realDonaldTrump tweets over time\"\n",
    "data_g = []\n",
    "tr_y1 = go.Bar(\n",
    "    x = dataset['x'],\n",
    "    y = dataset['y1'],\n",
    "    name = 'iPhone',\n",
    "    marker=dict(\n",
    "    color='lightgray'\n",
    ")\n",
    ")\n",
    "data_g.append(tr_y1)\n",
    "tr_y2 = go.Bar(\n",
    "    x = list(ad_tweets.keys()),\n",
    "    y = dataset['y2'],\n",
    "    name = 'Android',\n",
    "    marker=dict(\n",
    "    color='yellowgreen'\n",
    ")\n",
    ")\n",
    "data_g.append(tr_y2)\n",
    "\n",
    "tr_y3 = go.Bar(\n",
    "    x = list(other_tweets.keys()),\n",
    "    y = dataset['y3'],\n",
    "    name = 'Other',\n",
    "    marker=dict(\n",
    "    color='pink'\n",
    ")\n",
    ")\n",
    "data_g.append(tr_y3)\n",
    "\n",
    "layout = go.Layout(title=title, xaxis={'title':'Time'}, yaxis={'title':'Number of tweets'})\n",
    "fig = go.Figure(data=data_g, layout=layout)\n",
    "py.iplot(fig, filename=title)"
   ]
  },
  {
   "cell_type": "markdown",
   "metadata": {},
   "source": [
    "![title](img/1.png)"
   ]
  },
  {
   "cell_type": "markdown",
   "metadata": {},
   "source": [
    "# Data cleaning"
   ]
  },
  {
   "cell_type": "code",
   "execution_count": 15,
   "metadata": {},
   "outputs": [
    {
     "name": "stdout",
     "output_type": "stream",
     "text": [
      "668488\n",
      "['from', 'donald', 'trump', ':', 'wishing', 'everyone', 'a', 'wonderful', 'holiday', '&', 'a', 'happy', ',', 'healthy', ',', 'prosperous', 'new', 'year', '.', 'let']\n"
     ]
    }
   ],
   "source": [
    "# use TweetTokenizer to tokenise a Tweet Text\n",
    "from nltk.tokenize import TweetTokenizer\n",
    "tknzr = TweetTokenizer()\n",
    "\n",
    "def tokenizer_tweets(df):\n",
    "    \n",
    "    text = ''\n",
    "    for t in df['text']:\n",
    "        text += t\n",
    "    tokens = [i.lower() for i in tknzr.tokenize(text)]\n",
    "    \n",
    "    return tokens\n",
    "\n",
    "tokens = tokenizer_tweets(df)\n",
    "print(len(tokens))\n",
    "print(tokens[:20])"
   ]
  },
  {
   "cell_type": "code",
   "execution_count": 16,
   "metadata": {},
   "outputs": [
    {
     "name": "stdout",
     "output_type": "stream",
     "text": [
      "264476\n",
      "['donald', 'trump', 'wishing', 'everyone', 'wonderful', 'holiday', 'happy', 'healthy', 'prosperous', 'new', 'year', 'let', 'think', 'like', 'champions', 'trump', 'international', 'tower', 'chicago', 'ranked']\n"
     ]
    }
   ],
   "source": [
    "# remove stop words and other noise(links and special characters) to get clear tokens\n",
    "from nltk.corpus import stopwords\n",
    "import string\n",
    "\n",
    "punctiuation = list(string.punctuation)\n",
    "stop = stopwords.words('english') + punctiuation\n",
    "\n",
    "def clear_tokens(tokens):\n",
    "    \n",
    "    tokens_cl = [t for t in tokens if (len(t) >= 3) \n",
    "                 and (not t.startswith(('#', '@')))\n",
    "                 and (not t.startswith('http'))\n",
    "                 and (t not in stop)\n",
    "                 and (t[0].isalpha())]\n",
    "    \n",
    "    return tokens_cl\n",
    "\n",
    "tokens_cl = clear_tokens(tokens)\n",
    "print(len(tokens_cl))\n",
    "print(tokens_cl[:20])"
   ]
  },
  {
   "cell_type": "markdown",
   "metadata": {},
   "source": [
    "# Top 10 "
   ]
  },
  {
   "cell_type": "code",
   "execution_count": 17,
   "metadata": {
    "collapsed": true,
    "scrolled": true
   },
   "outputs": [],
   "source": [
    "from nltk import FreqDist\n",
    "\n",
    "def get_top10_of(i, n=10):\n",
    "    return FreqDist([t for t in tokens if t.startswith(i)]).most_common(n)"
   ]
  },
  {
   "cell_type": "code",
   "execution_count": 18,
   "metadata": {},
   "outputs": [
    {
     "data": {
      "text/plain": [
       "[('@realdonaldtrump', 8593),\n",
       " ('@barackobama', 693),\n",
       " ('@foxnews', 461),\n",
       " ('@foxandfriends', 436),\n",
       " ('@apprenticenbc', 401),\n",
       " ('@mittromney', 287),\n",
       " ('@cnn', 274),\n",
       " ('@ivankatrump', 221),\n",
       " ('@megynkelly', 155),\n",
       " ('@seanhannity', 149)]"
      ]
     },
     "execution_count": 18,
     "metadata": {},
     "output_type": "execute_result"
    }
   ],
   "source": [
    "# top 10 mentions\n",
    "get_top10_of('@')"
   ]
  },
  {
   "cell_type": "code",
   "execution_count": 19,
   "metadata": {},
   "outputs": [
    {
     "data": {
      "text/plain": [
       "[('#trump2016', 868),\n",
       " ('#makeamericagreatagain', 518),\n",
       " ('#celebapprentice', 221),\n",
       " ('#', 176),\n",
       " ('#celebrityapprentice', 149),\n",
       " ('#maga', 141),\n",
       " ('#trump', 113),\n",
       " ('#americafirst', 94),\n",
       " ('#draintheswamp', 77),\n",
       " ('#trumpforpresident', 76)]"
      ]
     },
     "execution_count": 19,
     "metadata": {},
     "output_type": "execute_result"
    }
   ],
   "source": [
    "# top 10 hashtags\n",
    "get_top10_of('#')"
   ]
  },
  {
   "cell_type": "code",
   "execution_count": 20,
   "metadata": {},
   "outputs": [
    {
     "data": {
      "text/plain": [
       "[('obama', 1227),\n",
       " ('obamacare', 397),\n",
       " (\"obama's\", 115),\n",
       " ('obamas', 5),\n",
       " (\"obamacare's\", 4),\n",
       " ('obama.the', 2),\n",
       " ('obamacare.via', 2),\n",
       " ('obamatrade', 2),\n",
       " ('obamacare.washington', 1),\n",
       " ('obamacare.hopefully', 1)]"
      ]
     },
     "execution_count": 20,
     "metadata": {},
     "output_type": "execute_result"
    }
   ],
   "source": [
    "get_top10_of('obama')"
   ]
  },
  {
   "cell_type": "markdown",
   "metadata": {},
   "source": [
    "# Marks of different sources"
   ]
  },
  {
   "cell_type": "code",
   "execution_count": 21,
   "metadata": {
    "collapsed": true
   },
   "outputs": [],
   "source": [
    "df_temp = df[~df.is_retweet].copy() # only non-RTs\n",
    "df_temp.index = df_temp.created_at\n",
    "df_temp = df_temp['2015-06':'2018'] # after Trump formally announced his candidacy \n",
    "\n",
    "def get_marks_on_source(source):\n",
    "    '''\n",
    "    Function to gather the number of tweets marks on different sources\n",
    "    '''\n",
    "    results = {}\n",
    "    link_counter = 0\n",
    "    hashtag_counter = 0\n",
    "    quote_counter = 0\n",
    "    \n",
    "    for t in df_temp[df_temp.source == source].text:\n",
    "        if t.startswith('\"'):\n",
    "            quote_counter += 1\n",
    "        for i in t.split(' '):\n",
    "            if i.startswith('https'):\n",
    "                link_counter += 1\n",
    "                break\n",
    "        for i in t.split(' '):\n",
    "            if i.startswith('#'):\n",
    "                hashtag_counter += 1\n",
    "                break\n",
    "\n",
    "        results['links'] = link_counter\n",
    "        results['quotes'] = quote_counter\n",
    "        results['hashtags'] = hashtag_counter\n",
    "        \n",
    "    return results\n",
    "\n",
    "ad_case = get_marks_on_source('Twitter for Android')\n",
    "ip_case = get_marks_on_source('Twitter for iPhone')"
   ]
  },
  {
   "cell_type": "code",
   "execution_count": 22,
   "metadata": {},
   "outputs": [
    {
     "name": "stdout",
     "output_type": "stream",
     "text": [
      "{'links': 384, 'quotes': 2399, 'hashtags': 684}\n",
      "{'links': 1743, 'quotes': 73, 'hashtags': 1284}\n"
     ]
    }
   ],
   "source": [
    "print(ad_case)\n",
    "print(ip_case)"
   ]
  },
  {
   "cell_type": "code",
   "execution_count": 23,
   "metadata": {},
   "outputs": [
    {
     "data": {
      "text/html": [
       "<iframe id=\"igraph\" scrolling=\"no\" style=\"border:none;\" seamless=\"seamless\" src=\"https://plot.ly/~epcobserver/84.embed\" height=\"525px\" width=\"100%\"></iframe>"
      ],
      "text/plain": [
       "<plotly.tools.PlotlyDisplay object>"
      ]
     },
     "execution_count": 23,
     "metadata": {},
     "output_type": "execute_result"
    }
   ],
   "source": [
    "import plotly.plotly as py\n",
    "import plotly.graph_objs as go\n",
    "\n",
    "dataset = {'x':['links','quotes','hashtags'],\n",
    "           'y1':list(ad_case.values()),\n",
    "           'y2':list(ip_case.values()),}\n",
    "\n",
    "title='''whether tweets start with a quotation mark (\") or have links ('https') and hashtags('#')'''\n",
    "data_g = []\n",
    "tr_y1 = go.Bar(\n",
    "    x = dataset['x'],\n",
    "    y = dataset['y1'],\n",
    "    name = 'Android',\n",
    "    marker=dict(\n",
    "    color='yellowgreen'\n",
    ")\n",
    ")\n",
    "data_g.append(tr_y1)\n",
    "tr_y2 = go.Bar(\n",
    "    x = dataset['x'],\n",
    "    y = dataset['y2'],\n",
    "    name = 'iPhone',\n",
    "    marker=dict(\n",
    "    color='lightgray'\n",
    ")\n",
    ")\n",
    "data_g.append(tr_y2)\n",
    "\n",
    "layout = go.Layout(title=title, xaxis={'title':'Marks'}, yaxis={'title':'Number of tweets'})\n",
    "fig = go.Figure(data=data_g, layout=layout)\n",
    "py.iplot(fig, filename=title)"
   ]
  },
  {
   "cell_type": "markdown",
   "metadata": {},
   "source": [
    "![title](img/2.png)"
   ]
  },
  {
   "cell_type": "markdown",
   "metadata": {},
   "source": [
    "# Wordcloud"
   ]
  },
  {
   "cell_type": "code",
   "execution_count": 24,
   "metadata": {},
   "outputs": [
    {
     "name": "stdout",
     "output_type": "stream",
     "text": [
      "94213\n"
     ]
    }
   ],
   "source": [
    "# use the tokens of original tweets to draw a wordcloud\n",
    "df_original = df[~df.is_retweet].copy()\n",
    "df_original.index = df_original.created_at\n",
    "\n",
    "tokens_original = clear_tokens(tokenizer_tweets(df_original['2015-6':'2018']))\n",
    "print(len(tokens_original))"
   ]
  },
  {
   "cell_type": "code",
   "execution_count": 25,
   "metadata": {},
   "outputs": [
    {
     "data": {
      "image/png": "[encoded data removed]",
      "text/plain": [
       "<matplotlib.figure.Figure at 0x19b44426278>"
      ]
     },
     "metadata": {},
     "output_type": "display_data"
    },
    {
     "data": {
      "text/plain": [
       "<wordcloud.wordcloud.WordCloud at 0x19b453feb00>"
      ]
     },
     "execution_count": 25,
     "metadata": {},
     "output_type": "execute_result"
    }
   ],
   "source": [
    "from wordcloud import WordCloud,ImageColorGenerator\n",
    "import matplotlib.pyplot as plt\n",
    "from scipy.misc import imread\n",
    "\n",
    "bg_pic = imread('img/trump.jpg')\n",
    "wc = WordCloud(background_color=\"white\",\n",
    "                      stopwords=stop,\n",
    "                      mask=bg_pic,\n",
    "                      scale=3,\n",
    "                      max_words=2000,\n",
    "                      max_font_size=100, \n",
    "                      random_state=42\n",
    "                     ).generate_from_frequencies(FreqDist(tokens_original))\n",
    "\n",
    "image_colors = ImageColorGenerator(bg_pic)\n",
    "\n",
    "plt.imshow(wc)\n",
    "plt.axis(\"off\")\n",
    "plt.show(wc.recolor(color_func=image_colors))\n",
    "\n",
    "wc.to_file('img/trump_tweets_wordcloud.png')"
   ]
  },
  {
   "cell_type": "markdown",
   "metadata": {},
   "source": [
    "# Trump's tweets about Hillary Clinton "
   ]
  },
  {
   "cell_type": "code",
   "execution_count": 26,
   "metadata": {
    "collapsed": true
   },
   "outputs": [],
   "source": [
    "# create a dict of monthly tweets\n",
    "created_month = sorted({str(t)[:7] for t in df_original['created_at']})\n",
    "df_original['created_month'] = [str(t)[:7] for t in df_original['created_at']]\n",
    "monthly_tweets = {}\n",
    "\n",
    "for m in created_month:\n",
    "    tweets = [t.lower() for t in df_original[(df_original.created_month == m)].text]\n",
    "    monthly_tweets[m] = tweets"
   ]
  },
  {
   "cell_type": "code",
   "execution_count": 27,
   "metadata": {
    "collapsed": true,
    "scrolled": true
   },
   "outputs": [],
   "source": [
    "def talk_about(name):\n",
    "    '''\n",
    "    Function to gather monthly tweets & return term frequency of the name\n",
    "    '''\n",
    "    name = name.lower()\n",
    "    name_mentions_frequency = {}\n",
    "    \n",
    "    for m in monthly_tweets.keys():\n",
    "        count = 0\n",
    "        for t in monthly_tweets[m]:\n",
    "            for i in t.split(' '):\n",
    "                if i == name:\n",
    "                    count += 1\n",
    "                    \n",
    "        name_mentions_frequency[m] = ('%.2f%%' % (((count)/(len(monthly_tweets[m])))*100))\n",
    "    \n",
    "    return name_mentions_frequency\n",
    "\n",
    "hillary_mentions_fq = talk_about('Hillary')"
   ]
  },
  {
   "cell_type": "code",
   "execution_count": 28,
   "metadata": {},
   "outputs": [
    {
     "data": {
      "text/html": [
       "<iframe id=\"igraph\" scrolling=\"no\" style=\"border:none;\" seamless=\"seamless\" src=\"https://plot.ly/~epcobserver/98.embed\" height=\"525px\" width=\"100%\"></iframe>"
      ],
      "text/plain": [
       "<plotly.tools.PlotlyDisplay object>"
      ]
     },
     "execution_count": 28,
     "metadata": {},
     "output_type": "execute_result"
    }
   ],
   "source": [
    "import plotly.plotly as py\n",
    "import plotly.graph_objs as go\n",
    "\n",
    "data_g = []\n",
    "tr_x = go.Scatter(\n",
    "    x = list(hillary_mentions_fq.keys()),\n",
    "    y = list(hillary_mentions_fq.values()),\n",
    "    name = 'hillary',\n",
    "    marker=dict(\n",
    "    color='red'\n",
    ")\n",
    ")\n",
    "data_g.append(tr_x)\n",
    "\n",
    "\n",
    "title = \"Trump's tweets about Hillary Clinton\"\n",
    "layout = go.Layout(title=title, xaxis={'title':'Time'}, yaxis={'title':\"% of tweets\"})\n",
    "fig = go.Figure(data=data_g, layout=layout)\n",
    "py.iplot(fig, filename=title)"
   ]
  },
  {
   "cell_type": "markdown",
   "metadata": {},
   "source": [
    "![title](img/3.png)"
   ]
  },
  {
   "cell_type": "markdown",
   "metadata": {},
   "source": [
    "# Bigram Frequency"
   ]
  },
  {
   "cell_type": "code",
   "execution_count": 29,
   "metadata": {
    "collapsed": true
   },
   "outputs": [],
   "source": [
    "import nltk\n",
    "from nltk.collocations import *\n",
    "\n",
    "#Create bigrams\n",
    "bgs = nltk.bigrams(tokens_original)\n",
    "\n",
    "#compute frequency distribution for all the bigrams in the text\n",
    "fdist = nltk.FreqDist(bgs)\n",
    "bigram_fq = fdist.most_common()\n",
    "bigram_fq_25 = {k:v for k,v in dict(bigram_fq[:25]).items()}"
   ]
  },
  {
   "cell_type": "code",
   "execution_count": 30,
   "metadata": {},
   "outputs": [
    {
     "data": {
      "text/html": [
       "<iframe id=\"igraph\" scrolling=\"no\" style=\"border:none;\" seamless=\"seamless\" src=\"https://plot.ly/~epcobserver/94.embed\" height=\"700px\" width=\"100%\"></iframe>"
      ],
      "text/plain": [
       "<plotly.tools.PlotlyDisplay object>"
      ]
     },
     "execution_count": 30,
     "metadata": {},
     "output_type": "execute_result"
    }
   ],
   "source": [
    "import plotly.plotly as py\n",
    "import plotly.graph_objs as go\n",
    "c1 = 'rgba(204,204,204,1)'\n",
    "c2 = 'rgba(222,45,38,0.8)'\n",
    "trace0 = go.Bar(\n",
    "    orientation=\"h\",\n",
    "    x=list(bigram_fq_25.values()),\n",
    "    y=[str(i) for i in list(bigram_fq_25.keys())],\n",
    "    marker=dict(\n",
    "        color=[c1]*3+[c2]*3+[c1]*19),\n",
    ")\n",
    "\n",
    "data = [trace0]\n",
    "title = \"Bigram Frequency\"\n",
    "layout = go.Layout(\n",
    "    title=title,\n",
    "    height=700,\n",
    "    margin={\n",
    "      \"pad\": 4,\n",
    "      \"l\": 200,\n",
    "    }\n",
    ")\n",
    "\n",
    "fig = go.Figure(data=data, layout=layout)\n",
    "py.iplot(fig, filename=title)"
   ]
  },
  {
   "cell_type": "markdown",
   "metadata": {},
   "source": [
    "![title](img/4.png)"
   ]
  },
  {
   "cell_type": "markdown",
   "metadata": {},
   "source": [
    "# Sentiment analysis"
   ]
  },
  {
   "cell_type": "code",
   "execution_count": 31,
   "metadata": {
    "collapsed": true
   },
   "outputs": [],
   "source": [
    "# textblob will allow us to do sentiment analysis in a very simple way\n",
    "from textblob import TextBlob\n",
    "import re\n",
    "\n",
    "def clean_tweet(tweet):\n",
    "    '''\n",
    "    Function to clean the text in a tweet by removing links and special characters using regex.\n",
    "    '''\n",
    "    return ' '.join(re.sub(\"(@[A-Za-z0-9]+)|([^0-9A-Za-z \\t])|(\\w+:\\/\\/\\S+)\", \" \", tweet).split())\n",
    "\n",
    "def get_tweet_sentiment(tweet):\n",
    "    #Function to classify sentiments of passed tweets using TextBlob's sentiment method\n",
    "    analysis = TextBlob(clean_tweet(tweet))\n",
    "    #set sentiments\n",
    "    if analysis.sentiment.polarity > 0:\n",
    "        return 'Positive'\n",
    "    elif analysis.sentiment.polarity == 0:\n",
    "        return 'Neutral'\n",
    "    else:\n",
    "        return 'Negative'"
   ]
  },
  {
   "cell_type": "code",
   "execution_count": 32,
   "metadata": {
    "collapsed": true
   },
   "outputs": [],
   "source": [
    "df['sentiment'] = [get_tweet_sentiment(t) for t in df.text]"
   ]
  },
  {
   "cell_type": "code",
   "execution_count": 33,
   "metadata": {},
   "outputs": [
    {
     "data": {
      "text/html": [
       "<div>\n",
       "<style>\n",
       "    .dataframe thead tr:only-child th {\n",
       "        text-align: right;\n",
       "    }\n",
       "\n",
       "    .dataframe thead th {\n",
       "        text-align: left;\n",
       "    }\n",
       "\n",
       "    .dataframe tbody tr th {\n",
       "        vertical-align: top;\n",
       "    }\n",
       "</style>\n",
       "<table border=\"1\" class=\"dataframe\">\n",
       "  <thead>\n",
       "    <tr style=\"text-align: right;\">\n",
       "      <th></th>\n",
       "      <th>created_at</th>\n",
       "      <th>favorite_count</th>\n",
       "      <th>id_str</th>\n",
       "      <th>in_reply_to_user_id_str</th>\n",
       "      <th>is_retweet</th>\n",
       "      <th>retweet_count</th>\n",
       "      <th>source</th>\n",
       "      <th>text</th>\n",
       "      <th>sentiment</th>\n",
       "    </tr>\n",
       "  </thead>\n",
       "  <tbody>\n",
       "    <tr>\n",
       "      <th>33072</th>\n",
       "      <td>2018-01-10 04:23:58</td>\n",
       "      <td>60252</td>\n",
       "      <td>950946293077209088</td>\n",
       "      <td>NaN</td>\n",
       "      <td>False</td>\n",
       "      <td>13822</td>\n",
       "      <td>Twitter for iPhone</td>\n",
       "      <td>.@ICEgov HSI agents and ERO officers, on behal...</td>\n",
       "      <td>Positive</td>\n",
       "    </tr>\n",
       "    <tr>\n",
       "      <th>33073</th>\n",
       "      <td>2018-01-10 03:48:26</td>\n",
       "      <td>51951</td>\n",
       "      <td>950937350003183616</td>\n",
       "      <td>NaN</td>\n",
       "      <td>False</td>\n",
       "      <td>11893</td>\n",
       "      <td>Twitter for iPhone</td>\n",
       "      <td>Thank you @GOPLeader Kevin McCarthy! Couldn’t ...</td>\n",
       "      <td>Positive</td>\n",
       "    </tr>\n",
       "    <tr>\n",
       "      <th>33074</th>\n",
       "      <td>2018-01-10 00:16:57</td>\n",
       "      <td>123413</td>\n",
       "      <td>950884128379035648</td>\n",
       "      <td>NaN</td>\n",
       "      <td>False</td>\n",
       "      <td>24552</td>\n",
       "      <td>Twitter for iPhone</td>\n",
       "      <td>As I made very clear today, our country needs ...</td>\n",
       "      <td>Positive</td>\n",
       "    </tr>\n",
       "    <tr>\n",
       "      <th>33075</th>\n",
       "      <td>2018-01-09 23:59:38</td>\n",
       "      <td>0</td>\n",
       "      <td>950879772644659200</td>\n",
       "      <td>NaN</td>\n",
       "      <td>True</td>\n",
       "      <td>11716</td>\n",
       "      <td>Twitter for iPhone</td>\n",
       "      <td>RT @Scavino45: “Utilities cutting rates, cite ...</td>\n",
       "      <td>Negative</td>\n",
       "    </tr>\n",
       "    <tr>\n",
       "      <th>33076</th>\n",
       "      <td>2018-01-09 23:07:09</td>\n",
       "      <td>82151</td>\n",
       "      <td>950866561153331200</td>\n",
       "      <td>NaN</td>\n",
       "      <td>False</td>\n",
       "      <td>19481</td>\n",
       "      <td>Twitter for iPhone</td>\n",
       "      <td>Today, it was my great honor to sign a new Exe...</td>\n",
       "      <td>Positive</td>\n",
       "    </tr>\n",
       "  </tbody>\n",
       "</table>\n",
       "</div>"
      ],
      "text/plain": [
       "               created_at  favorite_count              id_str  \\\n",
       "33072 2018-01-10 04:23:58           60252  950946293077209088   \n",
       "33073 2018-01-10 03:48:26           51951  950937350003183616   \n",
       "33074 2018-01-10 00:16:57          123413  950884128379035648   \n",
       "33075 2018-01-09 23:59:38               0  950879772644659200   \n",
       "33076 2018-01-09 23:07:09           82151  950866561153331200   \n",
       "\n",
       "       in_reply_to_user_id_str  is_retweet  retweet_count              source  \\\n",
       "33072                      NaN       False          13822  Twitter for iPhone   \n",
       "33073                      NaN       False          11893  Twitter for iPhone   \n",
       "33074                      NaN       False          24552  Twitter for iPhone   \n",
       "33075                      NaN        True          11716  Twitter for iPhone   \n",
       "33076                      NaN       False          19481  Twitter for iPhone   \n",
       "\n",
       "                                                    text sentiment  \n",
       "33072  .@ICEgov HSI agents and ERO officers, on behal...  Positive  \n",
       "33073  Thank you @GOPLeader Kevin McCarthy! Couldn’t ...  Positive  \n",
       "33074  As I made very clear today, our country needs ...  Positive  \n",
       "33075  RT @Scavino45: “Utilities cutting rates, cite ...  Negative  \n",
       "33076  Today, it was my great honor to sign a new Exe...  Positive  "
      ]
     },
     "execution_count": 33,
     "metadata": {},
     "output_type": "execute_result"
    }
   ],
   "source": [
    "df.tail()"
   ]
  },
  {
   "cell_type": "code",
   "execution_count": 34,
   "metadata": {
    "scrolled": true
   },
   "outputs": [
    {
     "name": "stdout",
     "output_type": "stream",
     "text": [
      "From Donald Trump: Wishing everyone a wonderful holiday & a happy, healthy, prosperous New Year. Let’s think like champions in 2010!\n",
      "\n",
      "Wishing you and yours a very Happy and Bountiful Thanksgiving!\n",
      "\n",
      "Donald Trump Partners with TV1 on New Reality Series Entitled, Omarosa's Ultimate Merger: http://tinyurl.com/yk5m3lc\n",
      "\n",
      "--Work has begun, ahead of schedule, to build the greatest golf course in history: Trump International – Scotland.\n",
      "\n",
      "--From Donald Trump: \"Ivanka and Jared’s wedding was spectacular, and they make a beautiful couple. I’m a very proud father.\"\n",
      "\n"
     ]
    }
   ],
   "source": [
    "# positive tweets sample\n",
    "for t in df[df['sentiment'] == 'Positive'].text[:5]:\n",
    "    print(t + '\\n')"
   ]
  },
  {
   "cell_type": "code",
   "execution_count": 35,
   "metadata": {},
   "outputs": [
    {
     "name": "stdout",
     "output_type": "stream",
     "text": [
      "“House votes on controversial FISA ACT today.” This is the act that may have been used, with the help of the discredited and phony Dossier, to so badly surveil and abuse the Trump Campaign by the previous administration and others?\n",
      "\n",
      "Disproven and paid for by Democrats “Dossier used to spy on Trump Campaign. Did FBI use Intel tool to influence the Election?” @foxandfriends  Did Dems or Clinton also pay Russians? Where are hidden and smashed DNC servers? Where are Crooked Hillary Emails?  What a mess!\n",
      "\n",
      "The fact that Sneaky Dianne Feinstein, who has on numerous occasions stated that collusion between Trump/Russia has not been found, would release testimony in such an underhanded and possibly illegal way, totally without authorization, is a disgrace. Must have tough Primary!\n",
      "\n",
      "It just shows everyone how broken and unfair our Court System is when the opposing side in a case (such as DACA) always runs to the 9th Circuit and almost always wins before being reversed by higher courts.\n",
      "\n",
      "RT @Scavino45: “Utilities cutting rates, cite benefits of Trump tax reform” https://t.co/u19JMs4Bsr\n",
      "\n"
     ]
    }
   ],
   "source": [
    "# negative tweets sample\n",
    "for t in df[df['sentiment'] == 'Negative'].text[-5:]:\n",
    "    print(t + '\\n')"
   ]
  },
  {
   "cell_type": "code",
   "execution_count": 36,
   "metadata": {},
   "outputs": [
    {
     "name": "stdout",
     "output_type": "stream",
     "text": [
      "Percentage of positive tweets: 56.09%\n",
      "Percentage of neutral tweets: 27.21%\n",
      "Percentage of negative tweets: 16.70%\n"
     ]
    }
   ],
   "source": [
    "# print percentages:\n",
    "pos_tweets = df[(~df.is_retweet) & (df.sentiment == 'Positive')] \n",
    "neu_tweets = df[(~df.is_retweet) & (df.sentiment == 'Neutral')]                                                                   \n",
    "neg_tweets = df[(~df.is_retweet) & (df.sentiment == 'Negative')]  \n",
    "                                                                        \n",
    "print(\"Percentage of positive tweets: %.2f%%\" %(len(pos_tweets)*100/len(df[(~df.is_retweet)])))\n",
    "print(\"Percentage of neutral tweets: %.2f%%\" %(len(neu_tweets)*100/len(df[(~df.is_retweet)])))\n",
    "print(\"Percentage of negative tweets: %.2f%%\" %(len(neg_tweets)*100/len(df[(~df.is_retweet)])))"
   ]
  },
  {
   "cell_type": "code",
   "execution_count": 37,
   "metadata": {
    "collapsed": true
   },
   "outputs": [],
   "source": [
    "# draw a positive wordcloud and a negative wordcloud\n",
    "pos_tokens = [t for t in tokens_original if get_tweet_sentiment(t) == 'Positive']\n",
    "neg_tokens = [t for t in tokens_original if get_tweet_sentiment(t) == 'Negative']"
   ]
  },
  {
   "cell_type": "code",
   "execution_count": 38,
   "metadata": {},
   "outputs": [
    {
     "data": {
      "image/png": "[encoded data removed]",
      "text/plain": [
       "<matplotlib.figure.Figure at 0x19b448d1358>"
      ]
     },
     "metadata": {},
     "output_type": "display_data"
    },
    {
     "data": {
      "text/plain": [
       "<wordcloud.wordcloud.WordCloud at 0x19b448ce668>"
      ]
     },
     "execution_count": 38,
     "metadata": {},
     "output_type": "execute_result"
    }
   ],
   "source": [
    "wc = WordCloud(background_color=\"white\",\n",
    "                      stopwords=stop,\n",
    "                      scale=3,\n",
    "                      max_words=2000,\n",
    "                      max_font_size=70, \n",
    "                      random_state=200\n",
    "                     ).generate_from_frequencies(FreqDist(pos_tokens))\n",
    "\n",
    "\n",
    "plt.imshow(wc)\n",
    "plt.axis(\"off\")\n",
    "plt.show(wc)\n",
    "\n",
    "wc.to_file('img/trump_tweets_positive_wordcloud.png')"
   ]
  },
  {
   "cell_type": "code",
   "execution_count": 39,
   "metadata": {},
   "outputs": [
    {
     "data": {
      "image/png": "[encoded data removed]",
      "text/plain": [
       "<matplotlib.figure.Figure at 0x19b44907ef0>"
      ]
     },
     "metadata": {},
     "output_type": "display_data"
    },
    {
     "data": {
      "text/plain": [
       "<wordcloud.wordcloud.WordCloud at 0x19b448c7710>"
      ]
     },
     "execution_count": 39,
     "metadata": {},
     "output_type": "execute_result"
    }
   ],
   "source": [
    "wc = WordCloud(background_color=\"black\",\n",
    "                      stopwords=stop,\n",
    "                      scale=3,\n",
    "                      max_words=2000,\n",
    "                      max_font_size=70, \n",
    "                      random_state=100\n",
    "                     ).generate_from_frequencies(FreqDist(neg_tokens))\n",
    "\n",
    "\n",
    "plt.imshow(wc)\n",
    "plt.axis(\"off\")\n",
    "plt.show(wc)\n",
    "\n",
    "wc.to_file('img/trump_tweets_negative_wordcloud.png')"
   ]
  },
  {
   "cell_type": "markdown",
   "metadata": {},
   "source": [
    "# Which source is more negative? andriod or iPhone ?"
   ]
  },
  {
   "cell_type": "code",
   "execution_count": 40,
   "metadata": {},
   "outputs": [
    {
     "name": "stdout",
     "output_type": "stream",
     "text": [
      "Android --> 2522\n",
      "iPhone --> 784\n"
     ]
    }
   ],
   "source": [
    "df_original['sentiment'] = np.array(df[~(df.is_retweet)].sentiment)\n",
    "print('Android --> '+str(len(df_original[(df_original.source == 'Twitter for Android') & (df_original.sentiment == 'Negative')])))\n",
    "print('iPhone --> '+str(len(df_original[(df_original.source == 'Twitter for iPhone') & (df_original.sentiment == 'Negative')])))"
   ]
  },
  {
   "cell_type": "code",
   "execution_count": 41,
   "metadata": {
    "collapsed": true
   },
   "outputs": [],
   "source": [
    "def get_sentiment_over_time(source,sentiment):\n",
    "    \n",
    "    if source in ['Twitter for Android', 'Twitter for iPhone']:\n",
    "        source_sentiment = df_original[(df_original.source == source) & (df_original.sentiment == sentiment)]\n",
    "    else:\n",
    "        source_sentiment = df_original[(df_original.source != 'Twitter for Android') & \n",
    "                               (df_original.source != 'Twitter for iPhone') &\n",
    "                               (df_original.sentiment == sentiment)]\n",
    "        \n",
    "    created_month = monthly_tweets.keys()\n",
    "    results = {m:len(source_sentiment[m]) for m in created_month if len(source_sentiment[m]) != 0}\n",
    "    \n",
    "    return results\n",
    "\n",
    "ad_neg = get_sentiment_over_time('Twitter for Android', 'Negative')\n",
    "ip_neg = get_sentiment_over_time('Twitter for iPhone', 'Negative')\n",
    "other_neg = get_sentiment_over_time('Other', 'Negative')"
   ]
  },
  {
   "cell_type": "code",
   "execution_count": 42,
   "metadata": {},
   "outputs": [
    {
     "data": {
      "text/html": [
       "<iframe id=\"igraph\" scrolling=\"no\" style=\"border:none;\" seamless=\"seamless\" src=\"https://plot.ly/~epcobserver/74.embed\" height=\"525px\" width=\"100%\"></iframe>"
      ],
      "text/plain": [
       "<plotly.tools.PlotlyDisplay object>"
      ]
     },
     "execution_count": 42,
     "metadata": {},
     "output_type": "execute_result"
    }
   ],
   "source": [
    "dataset = {'x':list(other_neg.keys()),\n",
    "           'Android':list(ad_neg.values()),\n",
    "           'iPhone':list(ip_neg.values()),\n",
    "           'Other':list(other_neg.values())\n",
    "          }\n",
    "\n",
    "data_g = []\n",
    "tr_x = go.Scatter(\n",
    "    x = list(ip_neg.keys()),\n",
    "    y = dataset['iPhone'],\n",
    "    name = 'iPhone',\n",
    "    marker=dict(\n",
    "    color='silver'\n",
    ")\n",
    ")\n",
    "data_g.append(tr_x)\n",
    "tr_z = go.Scatter(\n",
    "    x = list(ad_neg.keys()),\n",
    "    y = dataset['Android'],\n",
    "    name = 'Android',\n",
    "    marker=dict(\n",
    "    color='yellowgreen'\n",
    ")\n",
    ")\n",
    "data_g.append(tr_z)\n",
    "tr_a = go.Scatter(\n",
    "    x = dataset['x'],\n",
    "    y = dataset['Other'],\n",
    "    name = 'Other',\n",
    "    marker=dict(\n",
    "    color='pink'\n",
    ")\n",
    ")\n",
    "data_g.append(tr_a)\n",
    "\n",
    "title = 'Negative tweets on different sources'\n",
    "layout = go.Layout(title=title, xaxis={'title':'Time'}, yaxis={'title':\"Number of tweets\"})\n",
    "fig = go.Figure(data=data_g, layout=layout)\n",
    "py.iplot(fig, filename=title)"
   ]
  },
  {
   "cell_type": "markdown",
   "metadata": {},
   "source": [
    "![title](img/5.png)"
   ]
  },
  {
   "cell_type": "code",
   "execution_count": null,
   "metadata": {
    "collapsed": true
   },
   "outputs": [],
   "source": []
  }
 ],
 "metadata": {
  "kernelspec": {
   "display_name": "Python 3",
   "language": "python",
   "name": "python3"
  },
  "language_info": {
   "codemirror_mode": {
    "name": "ipython",
    "version": 3
   },
   "file_extension": ".py",
   "mimetype": "text/x-python",
   "name": "python",
   "nbconvert_exporter": "python",
   "pygments_lexer": "ipython3",
   "version": "3.6.3"
  }
 },
 "nbformat": 4,
 "nbformat_minor": 2
}
